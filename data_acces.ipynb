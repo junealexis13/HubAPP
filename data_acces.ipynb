{
 "cells": [
  {
   "cell_type": "code",
   "execution_count": 2,
   "id": "b9a93e42-0bb2-4611-a4d3-1018ee8cbac9",
   "metadata": {},
   "outputs": [],
   "source": [
    "import pandas as pd\n",
    "import glob, os"
   ]
  },
  {
   "cell_type": "code",
   "execution_count": 11,
   "id": "f09c3e84-8e37-465a-810f-e9cba4ea8d9e",
   "metadata": {},
   "outputs": [],
   "source": [
    "#directory\n",
    "file = glob.glob(os.path.join(os.getcwd(), \"data_files\",\"*\"))"
   ]
  },
  {
   "cell_type": "code",
   "execution_count": 24,
   "id": "3b6190a8-f484-4b2e-95c0-98b89fd696f4",
   "metadata": {},
   "outputs": [
    {
     "data": {
      "text/html": [
       "<div>\n",
       "<style scoped>\n",
       "    .dataframe tbody tr th:only-of-type {\n",
       "        vertical-align: middle;\n",
       "    }\n",
       "\n",
       "    .dataframe tbody tr th {\n",
       "        vertical-align: top;\n",
       "    }\n",
       "\n",
       "    .dataframe thead th {\n",
       "        text-align: right;\n",
       "    }\n",
       "</style>\n",
       "<table border=\"1\" class=\"dataframe\">\n",
       "  <thead>\n",
       "    <tr style=\"text-align: right;\">\n",
       "      <th></th>\n",
       "      <th>Emp ID</th>\n",
       "      <th>Name</th>\n",
       "      <th>Time</th>\n",
       "      <th>Attendance State</th>\n",
       "      <th>Display Name</th>\n",
       "    </tr>\n",
       "  </thead>\n",
       "  <tbody>\n",
       "    <tr>\n",
       "      <th>12227</th>\n",
       "      <td>121</td>\n",
       "      <td>June Alexis.Santos</td>\n",
       "      <td>2023-07-17 12:05:57</td>\n",
       "      <td>Check In</td>\n",
       "      <td>June Alexis Santos</td>\n",
       "    </tr>\n",
       "  </tbody>\n",
       "</table>\n",
       "</div>"
      ],
      "text/plain": [
       "       Emp ID                Name                Time Attendance State  \\\n",
       "12227     121  June Alexis.Santos 2023-07-17 12:05:57         Check In   \n",
       "\n",
       "             Display Name  \n",
       "12227  June Alexis Santos  "
      ]
     },
     "execution_count": 24,
     "metadata": {},
     "output_type": "execute_result"
    }
   ],
   "source": [
    "df = pd.read_excel(file[0], sheet_name='testlogs')\n",
    "d = df.loc[df['Emp ID'] == 121]\n",
    "d.head(1)"
   ]
  },
  {
   "cell_type": "code",
   "execution_count": 25,
   "id": "f1bdef67-fae9-436e-99e3-b67497316d74",
   "metadata": {},
   "outputs": [
    {
     "data": {
      "text/plain": [
       "array(['June Alexis.Santos'], dtype=object)"
      ]
     },
     "execution_count": 25,
     "metadata": {},
     "output_type": "execute_result"
    }
   ],
   "source": [
    "dt = d.Name.unique()\n",
    "dt"
   ]
  }
 ],
 "metadata": {
  "kernelspec": {
   "display_name": "anaconda-panel-2023.05-py310",
   "language": "python",
   "name": "conda-env-anaconda-panel-2023.05-py310-py"
  },
  "language_info": {
   "codemirror_mode": {
    "name": "ipython",
    "version": 3
   },
   "file_extension": ".py",
   "mimetype": "text/x-python",
   "name": "python",
   "nbconvert_exporter": "python",
   "pygments_lexer": "ipython3",
   "version": "3.11.4"
  }
 },
 "nbformat": 4,
 "nbformat_minor": 5
}
